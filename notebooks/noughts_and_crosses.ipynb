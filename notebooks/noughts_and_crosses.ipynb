{
 "cells": [
  {
   "cell_type": "markdown",
   "metadata": {},
   "source": [
    "# Computing Optimal Strategies for Naughts & Crosses via Brute Force\n",
    "\n",
    "The problem is to 'play' all possible games in advance and store the results, such that when a player is presented with any state of the game they can choose as their next move the one with highest probability of leading to a win. Playing all possible games in this way is a 'brute force' approach to learning strategies. This algorithm will require:\n",
    "\n",
    "1. A way to represent the state of a game that can also serve as an index to query against;\n",
    "2. A method for identifying a winning state;\n",
    "2. A method for computing the set of all possible moves conditional on the current state of the game;\n",
    "3. A method for computing the probability of winning conditional on the state of the game; and,\n",
    "4. An algorithm for playing all possible games and computing (2) and (3)."
   ]
  },
  {
   "cell_type": "markdown",
   "metadata": {},
   "source": [
    "## Imports\n"
   ]
  },
  {
   "cell_type": "code",
   "execution_count": 1,
   "metadata": {},
   "outputs": [],
   "source": [
    "# imports will go here"
   ]
  },
  {
   "cell_type": "markdown",
   "metadata": {},
   "source": [
    "## Representing Game State\n",
    "\n",
    "There are 9 cells in which a move can be made (the board is a 3 x 3 grid), and each cell can be in 1 of 3 possible states:\n",
    "\n",
    "1. Player One has made a move in the cell (`\"1\"`);\n",
    "2. Player Two has made a move in the cell (`\"2\"`); or,\n",
    "3. No player has made a move in the cell (`\"0\"`).\n",
    "\n",
    "In everything that follows Player One will always start and we will view the same entire from within their frame-of-reference (as the game is symmetrical between players) - i.e., we will assume that we are always Player One as far as computing win probabilities are concerned.\n",
    "\n",
    "A viable way of representing state is as a 9 digit integer comprised solely of 3 values - e.g., the 3 x 3 (matrix) representation of the board\n",
    "\n",
    "```text\n",
    "102\n",
    "012\n",
    "100\n",
    "```\n",
    "\n",
    "Could just as easily be represented in a 'vector-like' setup,\n",
    "\n",
    "```text\n",
    "102012100\n",
    "```\n",
    "\n",
    "This can also be encoded as a string (to enable easy element lookup via its list protocol), that can also be used as an index to search against - e.g., as a dictionary key."
   ]
  },
  {
   "cell_type": "code",
   "execution_count": 6,
   "metadata": {},
   "outputs": [
    {
     "data": {
      "text/plain": [
       "{'112012100': {'p_win': 0.01},\n",
       " '102112100': {'p_win': 0.02},\n",
       " '102012110': {'p_win': 0.03},\n",
       " '102012101': {'p_win': 0.04}}"
      ]
     },
     "execution_count": 6,
     "metadata": {},
     "output_type": "execute_result"
    }
   ],
   "source": [
    "game_states = {\n",
    "    \"102012100\": {\n",
    "        \"possible_moves\": {\n",
    "            \"112012100\": {\"p_win\": 0.01},\n",
    "            \"102112100\": {\"p_win\": 0.02},\n",
    "            \"102012110\": {\"p_win\": 0.03},\n",
    "            \"102012101\": {\"p_win\": 0.04},\n",
    "        }\n",
    "    }\n",
    "}\n",
    "\n",
    "next_move_options = game_states[\"102012100\"][\"possible_moves\"]\n",
    "next_move_options"
   ]
  },
  {
   "cell_type": "markdown",
   "metadata": {},
   "source": [
    "## Identifying Winners\n",
    "\n",
    "There are only 8 possible states that map to a win - 3 from the columns, 3 rom the rows, and 2 from the diagonals. We can check the state of the game explicitly against these."
   ]
  },
  {
   "cell_type": "code",
   "execution_count": 21,
   "metadata": {},
   "outputs": [
    {
     "name": "stdout",
     "output_type": "stream",
     "text": [
      "111212122: win for Player One --> True\n",
      "120120100: win for Player One --> True\n",
      "120210001: win for Player One --> True\n",
      "201210100: win for Player One --> True\n",
      "112012100: win for Player One --> False\n"
     ]
    }
   ],
   "source": [
    "def winning_state(game_state: str, player: str = \"1\") -> bool:\n",
    "    \"\"\"Check the game state to see if it indicates a winning state.\"\"\"\n",
    "    # check rows\n",
    "    if game_state[0] == game_state[1] == game_state[2] == player:\n",
    "        return True\n",
    "    if game_state[3] == game_state[4] == game_state[5] == player:\n",
    "        return True\n",
    "    if game_state[6] == game_state[7] == game_state[8] == player:\n",
    "        return True\n",
    "\n",
    "    # check columns\n",
    "    if game_state[0] == game_state[3] == game_state[6] == player:\n",
    "        return True\n",
    "    if game_state[1] == game_state[4] == game_state[7] == player:\n",
    "        return True\n",
    "    if game_state[2] == game_state[5] == game_state[8] == player:\n",
    "        return True\n",
    "\n",
    "    # check diagonals\n",
    "    if game_state[0] == game_state[4] == game_state[8] == player:\n",
    "        return True\n",
    "    if game_state[6] == game_state[4] == game_state[8] == player:\n",
    "        return True\n",
    "\n",
    "    # otherwise...\n",
    "    return False\n",
    "\n",
    "\n",
    "print(f\"111212122: win for Player One --> {winning_state('111212122')}\")\n",
    "print(f\"120120100: win for Player One --> {winning_state('111212100')}\")\n",
    "print(f\"120210001: win for Player One --> {winning_state('120210001')}\")\n",
    "print(f\"201210100: win for Player One --> {winning_state('120210001')}\")\n",
    "print(f\"112012100: win for Player One --> {winning_state('112012100')}\")"
   ]
  },
  {
   "cell_type": "markdown",
   "metadata": {},
   "source": [
    "## Identifying Possible Moves"
   ]
  },
  {
   "cell_type": "code",
   "execution_count": null,
   "metadata": {},
   "outputs": [],
   "source": []
  }
 ],
 "metadata": {
  "kernelspec": {
   "display_name": ".venv",
   "language": "python",
   "name": "python3"
  },
  "language_info": {
   "codemirror_mode": {
    "name": "ipython",
    "version": 3
   },
   "file_extension": ".py",
   "mimetype": "text/x-python",
   "name": "python",
   "nbconvert_exporter": "python",
   "pygments_lexer": "ipython3",
   "version": "3.12.2"
  }
 },
 "nbformat": 4,
 "nbformat_minor": 2
}
