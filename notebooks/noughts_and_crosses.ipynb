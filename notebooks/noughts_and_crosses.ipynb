{
 "cells": [
  {
   "cell_type": "markdown",
   "metadata": {},
   "source": [
    "# Computing Optimal Strategies for Naughts & Crosses via Brute Force\n",
    "\n",
    "The problem is to 'play' all possible games in advance and store the results, such that when a player is presented with any state of the game they can choose as their next move the one with highest probability of leading to a win. Playing all possible games in this way is a 'brute force' approach to learning strategies. This algorithm will require:\n",
    "\n",
    "1. A way to represent the state of a game that can also serve as an index to query against;\n",
    "2. A method for identifying a winning state;\n",
    "3. A method for computing the set of all possible moves conditional on the current state of the game; and,\n",
    "4. An algorithm for playing all possible games and computing the probability of winning conditional on the current state of the game."
   ]
  },
  {
   "cell_type": "markdown",
   "metadata": {},
   "source": [
    "## Representing Game State\n",
    "\n",
    "There are 9 cells in which a move can be made (the board is a 3 x 3 grid), and each cell can be in 1 of 3 possible states:\n",
    "\n",
    "1. Player One has made a move in the cell (`\"1\"`);\n",
    "2. Player Two has made a move in the cell (`\"2\"`); or,\n",
    "3. No player has made a move in the cell (`\"0\"`).\n",
    "\n",
    "In everything that follows Player One will always start and we will view the same entire from within their frame-of-reference (as the game is symmetrical between players) - i.e., we will assume that we are always Player One as far as computing win probabilities are concerned.\n",
    "\n",
    "A viable way of representing state is as a 9 digit integer comprised solely of 3 values - e.g., the 3 x 3 (matrix) representation of the board\n",
    "\n",
    "```text\n",
    "102\n",
    "012\n",
    "100\n",
    "```\n",
    "\n",
    "Could just as easily be represented in a 'vector-like' setup,\n",
    "\n",
    "```text\n",
    "102012100\n",
    "```\n",
    "\n",
    "This can also be encoded as a string (to enable easy element lookup via its list protocol), that can also be used as an index to search against - e.g., as a dictionary key."
   ]
  },
  {
   "cell_type": "code",
   "execution_count": 1,
   "metadata": {},
   "outputs": [
    {
     "data": {
      "text/plain": [
       "{'112012100': {'p_win': 0.01},\n",
       " '102112100': {'p_win': 0.02},\n",
       " '102012110': {'p_win': 0.03},\n",
       " '102012101': {'p_win': 0.04}}"
      ]
     },
     "execution_count": 1,
     "metadata": {},
     "output_type": "execute_result"
    }
   ],
   "source": [
    "game_states = {\n",
    "    \"102012100\": {\n",
    "        \"possible_moves\": {\n",
    "            \"112012100\": {\"p_win\": 0.01},\n",
    "            \"102112100\": {\"p_win\": 0.02},\n",
    "            \"102012110\": {\"p_win\": 0.03},\n",
    "            \"102012101\": {\"p_win\": 0.04},\n",
    "        }\n",
    "    }\n",
    "}\n",
    "\n",
    "next_move_options = game_states[\"102012100\"][\"possible_moves\"]\n",
    "next_move_options"
   ]
  },
  {
   "cell_type": "markdown",
   "metadata": {},
   "source": [
    "## Identifying Winners\n",
    "\n",
    "There are only 8 possible states that map to a win - 3 from the columns, 3 rom the rows, and 2 from the diagonals. We can check the state of the game explicitly against these."
   ]
  },
  {
   "cell_type": "code",
   "execution_count": 2,
   "metadata": {},
   "outputs": [
    {
     "name": "stdout",
     "output_type": "stream",
     "text": [
      "111212122: win for Player One --> True\n",
      "120120100: win for Player One --> True\n",
      "120210001: win for Player One --> True\n",
      "201210100: win for Player One --> True\n",
      "112012100: win for Player One --> False\n",
      "222121211: win for Player Two --> True\n",
      "112102002: win for Player Two --> True\n"
     ]
    }
   ],
   "source": [
    "def winning_state(game_state: str, player: str = \"1\") -> bool:\n",
    "    \"\"\"Check the game state to see if it indicates a winning state.\"\"\"\n",
    "    # check rows\n",
    "    if game_state[0] == game_state[1] == game_state[2] == player:\n",
    "        return True\n",
    "    if game_state[3] == game_state[4] == game_state[5] == player:\n",
    "        return True\n",
    "    if game_state[6] == game_state[7] == game_state[8] == player:\n",
    "        return True\n",
    "\n",
    "    # check columns\n",
    "    if game_state[0] == game_state[3] == game_state[6] == player:\n",
    "        return True\n",
    "    if game_state[1] == game_state[4] == game_state[7] == player:\n",
    "        return True\n",
    "    if game_state[2] == game_state[5] == game_state[8] == player:\n",
    "        return True\n",
    "\n",
    "    # check diagonals\n",
    "    if game_state[0] == game_state[4] == game_state[8] == player:\n",
    "        return True\n",
    "    if game_state[6] == game_state[4] == game_state[8] == player:\n",
    "        return True\n",
    "\n",
    "    # otherwise...\n",
    "    return False\n",
    "\n",
    "\n",
    "print(f\"111212122: win for Player One --> {winning_state('111212122', player='1')}\")\n",
    "print(f\"120120100: win for Player One --> {winning_state('111212100', player='1')}\")\n",
    "print(f\"120210001: win for Player One --> {winning_state('120210001', player='1')}\")\n",
    "print(f\"201210100: win for Player One --> {winning_state('120210001', player='1')}\")\n",
    "print(f\"112012100: win for Player One --> {winning_state('112012100', player='1')}\")\n",
    "print(f\"222121211: win for Player Two --> {winning_state('222121211', player='2')}\")\n",
    "print(f\"112102002: win for Player Two --> {winning_state('112102002', player='2')}\")"
   ]
  },
  {
   "cell_type": "markdown",
   "metadata": {},
   "source": [
    "## Identifying Possible Moves"
   ]
  },
  {
   "cell_type": "code",
   "execution_count": 3,
   "metadata": {},
   "outputs": [
    {
     "data": {
      "text/plain": [
       "['121120100', '120121100', '120120110', '120120101']"
      ]
     },
     "execution_count": 3,
     "metadata": {},
     "output_type": "execute_result"
    }
   ],
   "source": [
    "def get_possible_moves(game_state: str, player: str = \"1\") -> list[str]:\n",
    "    \"\"\"Compute all possible next moves.\"\"\"\n",
    "    possible_moves = [\n",
    "        game_state[:i] + player + game_state[i+1:]\n",
    "        for i in range(9) if game_state[i] == \"0\"\n",
    "    ]\n",
    "    return possible_moves\n",
    "\n",
    "\n",
    "get_possible_moves(\"120120100\", player=\"1\")"
   ]
  },
  {
   "cell_type": "markdown",
   "metadata": {},
   "source": [
    "## Playing all Possible Games and Computing `P(win|current_state)`"
   ]
  },
  {
   "cell_type": "code",
   "execution_count": 4,
   "metadata": {},
   "outputs": [
    {
     "name": "stdout",
     "output_type": "stream",
     "text": [
      "number of possible games = 144,000\n"
     ]
    }
   ],
   "source": [
    "from collections import deque\n",
    "\n",
    "players = [\"1\", \"2\"]\n",
    "possible_games = deque()\n",
    "possible_games.append(deque([\"000000000\"]))\n",
    "\n",
    "# phase 1 - generate all possible games\n",
    "for round in range(9):\n",
    "    player = players[round % 2]\n",
    "    new_possible_games = deque()\n",
    "    for game in possible_games:\n",
    "        previous_game_state = game[-1]\n",
    "        if (winning_state(previous_game_state, player=\"1\")\n",
    "            or winning_state(previous_game_state, player=\"2\")):\n",
    "            continue\n",
    "        for move in get_possible_moves(previous_game_state, player):\n",
    "            game_path = game.copy()\n",
    "            game_path.append(move)\n",
    "            new_possible_games.append(game_path)\n",
    "        possible_games = new_possible_games\n",
    "\n",
    "# phase 2 - unpack path and calculate win probabilities\n",
    "# TODO\n",
    "\n",
    "print(f\"number of possible games = {len(possible_games):,}\")"
   ]
  },
  {
   "cell_type": "markdown",
   "metadata": {},
   "source": [
    "Let's look at some possible games."
   ]
  },
  {
   "cell_type": "code",
   "execution_count": 5,
   "metadata": {},
   "outputs": [
    {
     "name": "stdout",
     "output_type": "stream",
     "text": [
      "result: player 1 wins\n",
      "game path: 000000000 --> 100000000 --> 120000000 --> 121000000 --> 121200000 --> 121210000 --> 121212000 --> 121212100 --> 121212120 --> 121212121\n",
      "final game state:\n",
      " 121\n",
      " 212\n",
      " 121\n"
     ]
    }
   ],
   "source": [
    "def print_final_game_state(game_path: deque[str]) -> None:\n",
    "    \"\"\"Print the game state on a 3 x 3 board.\"\"\"\n",
    "    final_game_state = game_path[-1]\n",
    "    print(\n",
    "        \"final game state:\" + \"\\n \"\n",
    "        + final_game_state[0:3] + \"\\n \"\n",
    "        + final_game_state[3:6] + \"\\n \"\n",
    "        + final_game_state[6:9]\n",
    "    )\n",
    "\n",
    "\n",
    "def print_game_path(game_path: deque[str]) -> None:\n",
    "    \"\"\"Print the path of a finished game.\"\"\"\n",
    "    all_states_in_path = [state for state in game_path]\n",
    "    print(\"game path: \" + \" --> \".join(all_states_in_path))\n",
    "\n",
    "\n",
    "def print_game_result(game_path: deque[str]) -> None:\n",
    "    \"\"\"Print the game result.\"\"\"\n",
    "    final_fame_state = game_path[-1]\n",
    "    if winning_state(final_fame_state, \"1\"):\n",
    "        print(\"result: player 1 wins\")\n",
    "    elif winning_state(final_fame_state, \"2\"):\n",
    "        print(\"result: player 2 wins\")\n",
    "    else:\n",
    "        print(\"result: draw\")\n",
    "\n",
    "\n",
    "game_path = 0\n",
    "print_game_result(possible_games[game_path])\n",
    "print_game_path(possible_games[game_path])\n",
    "print_final_game_state(possible_games[game_path])"
   ]
  },
  {
   "cell_type": "markdown",
   "metadata": {},
   "source": [
    "Lets analyse the games."
   ]
  },
  {
   "cell_type": "code",
   "execution_count": 6,
   "metadata": {},
   "outputs": [
    {
     "name": "stdout",
     "output_type": "stream",
     "text": [
      "number of times player 1 wins = 74,880\n",
      "number of times player 2 wins = 0\n",
      "number of draws = 69,120\n"
     ]
    }
   ],
   "source": [
    "def game_outcome(game_path: deque[str]) -> str:\n",
    "    \"\"\"Compute the game's outcome.\"\"\"\n",
    "    final_fame_state = game_path[-1]\n",
    "    if winning_state(final_fame_state, \"1\"):\n",
    "        return (\"player 1 wins\")\n",
    "    elif winning_state(final_fame_state, \"2\"):\n",
    "        return (\"player 2 wins\")\n",
    "    else:\n",
    "        return(\"draw\")\n",
    "\n",
    "\n",
    "num_player_1_wins = sum(\n",
    "    game_outcome(game) == \"player 1 wins\" for game in possible_games\n",
    ")\n",
    "num_player_2_wins = sum(\n",
    "    game_outcome(game) == \"player 2 wins\" for game in possible_games\n",
    ")\n",
    "num_draws = sum(\n",
    "    game_outcome(game) == \"draw\" for game in possible_games\n",
    ")\n",
    "\n",
    "print(f\"number of times player 1 wins = {num_player_1_wins:,}\")\n",
    "print(f\"number of times player 2 wins = {num_player_2_wins:,}\")\n",
    "print(f\"number of draws = {num_draws:,}\")"
   ]
  },
  {
   "cell_type": "code",
   "execution_count": null,
   "metadata": {},
   "outputs": [],
   "source": []
  }
 ],
 "metadata": {
  "kernelspec": {
   "display_name": ".venv",
   "language": "python",
   "name": "python3"
  },
  "language_info": {
   "codemirror_mode": {
    "name": "ipython",
    "version": 3
   },
   "file_extension": ".py",
   "mimetype": "text/x-python",
   "name": "python",
   "nbconvert_exporter": "python",
   "pygments_lexer": "ipython3",
   "version": "3.12.2"
  }
 },
 "nbformat": 4,
 "nbformat_minor": 2
}
