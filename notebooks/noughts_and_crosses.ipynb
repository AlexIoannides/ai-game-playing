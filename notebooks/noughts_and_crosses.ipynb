{
 "cells": [
  {
   "cell_type": "markdown",
   "metadata": {},
   "source": [
    "# Computing Optimal Strategies for Naughts & Crosses via Brute Force\n",
    "\n",
    "The problem is to 'play' all possible games in advance and store the results, such that when a player is presented with any state of the game they can choose as their next move the one with highest probability of leading to a win. Playing all possible games in this way is a 'brute force' approach to learning strategies. This algorithm will require:\n",
    "\n",
    "1. A way to represent the state of a game that can also serve as an index to query against;\n",
    "2. A method for identifying a winning state;\n",
    "2. A method for computing the set of all possible moves conditional on the current state of the game;\n",
    "3. A method for computing the probability of winning conditional on the state of the game; and,\n",
    "4. An algorithm for playing all possible games and computing (2) and (3)."
   ]
  },
  {
   "cell_type": "markdown",
   "metadata": {},
   "source": [
    "## Imports\n"
   ]
  },
  {
   "cell_type": "code",
   "execution_count": 1,
   "metadata": {},
   "outputs": [],
   "source": [
    "# imports will go here"
   ]
  },
  {
   "cell_type": "markdown",
   "metadata": {},
   "source": [
    "## Representing the State of the Game\n",
    "\n",
    "There are 9 cells in which a move can be made (the board is a 3 x 3 grid), and each cell can be in 1 of 3 possible states:\n",
    "\n",
    "1. Player One has made a move in the cell (`1`);\n",
    "2. Player Two has made a move in the cell (`2`); or,\n",
    "3. No player has made a move in the cell (`0`).\n",
    "\n",
    "In everything that follows Player One will always start and we will view the same entire from within their frame-of-reference (as the game is symmetrical between players). One viable way of representing state is as a 9 digit integer comprised solely of 3 values - e.g., the 3 x 3 (matrix) representation of the board\n",
    "\n",
    "```text\n",
    "102\n",
    "012\n",
    "100\n",
    "```\n",
    "\n",
    "Could just as easily be represented in a 'vector-like' setup,\n",
    "\n",
    "```text\n",
    "102012100\n",
    "```\n",
    "\n",
    "This can then be used as an index to search against - e.g., as a dictionary key."
   ]
  },
  {
   "cell_type": "code",
   "execution_count": 4,
   "metadata": {},
   "outputs": [
    {
     "data": {
      "text/plain": [
       "{112012100: {'p_win': 0.01},\n",
       " 102112100: {'p_win': 0.02},\n",
       " 102012110: {'p_win': 0.03},\n",
       " 102012101: {'p_win': 0.04}}"
      ]
     },
     "execution_count": 4,
     "metadata": {},
     "output_type": "execute_result"
    }
   ],
   "source": [
    "game_states = {\n",
    "    102012100: {\n",
    "        \"possible_moves\": {\n",
    "            112012100: {\"p_win\": 0.01},\n",
    "            102112100: {\"p_win\": 0.02},\n",
    "            102012110: {\"p_win\": 0.03},\n",
    "            102012101: {\"p_win\": 0.04},\n",
    "        }\n",
    "    }\n",
    "}\n",
    "\n",
    "next_move_options = game_states[102012100][\"possible_moves\"]\n",
    "next_move_options"
   ]
  },
  {
   "cell_type": "code",
   "execution_count": null,
   "metadata": {},
   "outputs": [],
   "source": []
  }
 ],
 "metadata": {
  "kernelspec": {
   "display_name": ".venv",
   "language": "python",
   "name": "python3"
  },
  "language_info": {
   "codemirror_mode": {
    "name": "ipython",
    "version": 3
   },
   "file_extension": ".py",
   "mimetype": "text/x-python",
   "name": "python",
   "nbconvert_exporter": "python",
   "pygments_lexer": "ipython3",
   "version": "3.12.2"
  }
 },
 "nbformat": 4,
 "nbformat_minor": 2
}
